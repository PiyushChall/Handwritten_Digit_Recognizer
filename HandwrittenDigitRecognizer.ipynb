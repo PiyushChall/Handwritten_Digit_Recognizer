{
  "cells": [
    {
      "cell_type": "markdown",
      "metadata": {
        "id": "view-in-github",
        "colab_type": "text"
      },
      "source": [
        "<a href=\"https://colab.research.google.com/github/PiyushChall/Handwritten_Digit_Recognizer/blob/main/HandwrittenDigitRecognizer.ipynb\" target=\"_parent\"><img src=\"https://colab.research.google.com/assets/colab-badge.svg\" alt=\"Open In Colab\"/></a>"
      ]
    },
    {
      "cell_type": "markdown",
      "metadata": {
        "id": "RKwWTxU2S5tY"
      },
      "source": [
        "# **Handwritten Digit Recognition with Neural Networks**\n",
        "\n",
        "\n",
        "\n"
      ]
    },
    {
      "cell_type": "markdown",
      "metadata": {
        "id": "zIpOqEV_Uqgt"
      },
      "source": [
        "# Some Installations"
      ]
    },
    {
      "cell_type": "code",
      "execution_count": null,
      "metadata": {
        "id": "gVeI57BwSv98"
      },
      "outputs": [],
      "source": [
        "#!pip install torch"
      ]
    },
    {
      "cell_type": "markdown",
      "metadata": {
        "id": "mLZWr6pJV309"
      },
      "source": [
        "# Importing Modules"
      ]
    },
    {
      "cell_type": "markdown",
      "metadata": {
        "id": "VvHpjhV1xVfV"
      },
      "source": [
        "**Torch**"
      ]
    },
    {
      "cell_type": "code",
      "execution_count": null,
      "metadata": {
        "id": "DY-NGBzQWWrQ"
      },
      "outputs": [],
      "source": [
        "import torch\n",
        "import torch.nn as nn\n",
        "import torch.nn.functional as F\n",
        "from torch.utils.data import DataLoader\n",
        "from torchvision import datasets, transforms\n",
        "from torchvision.utils import make_grid"
      ]
    },
    {
      "cell_type": "markdown",
      "metadata": {
        "id": "dlgDhmPLxXor"
      },
      "source": [
        "**Numpy**"
      ]
    },
    {
      "cell_type": "code",
      "execution_count": null,
      "metadata": {
        "id": "olJNfi93vG7R"
      },
      "outputs": [],
      "source": [
        "import numpy as np"
      ]
    },
    {
      "cell_type": "markdown",
      "metadata": {
        "id": "l8_jCt-hxZwo"
      },
      "source": [
        "**Pandas**"
      ]
    },
    {
      "cell_type": "code",
      "execution_count": null,
      "metadata": {
        "id": "aLHI3jiGvMrY"
      },
      "outputs": [],
      "source": [
        "import pandas as pd"
      ]
    },
    {
      "cell_type": "markdown",
      "metadata": {
        "id": "ey4BiO18xb7N"
      },
      "source": [
        "**Confusion Matrix**"
      ]
    },
    {
      "cell_type": "code",
      "execution_count": null,
      "metadata": {
        "id": "3P1FyTRKvXrG"
      },
      "outputs": [],
      "source": [
        "from sklearn.metrics import confusion_matrix\n",
        "from sklearn.metrics import accuracy_score"
      ]
    },
    {
      "cell_type": "markdown",
      "metadata": {
        "id": "SE9YgTncxjG5"
      },
      "source": [
        "**Matplot**"
      ]
    },
    {
      "cell_type": "code",
      "execution_count": null,
      "metadata": {
        "id": "kqaziySTvfTK"
      },
      "outputs": [],
      "source": [
        "import matplotlib.pyplot as plt\n",
        "%matplotlib inline"
      ]
    },
    {
      "cell_type": "markdown",
      "metadata": {
        "id": "H0OHBO6PfTRA"
      },
      "source": [
        "**Time**"
      ]
    },
    {
      "cell_type": "code",
      "execution_count": null,
      "metadata": {
        "id": "VLNzQyQZfRjZ"
      },
      "outputs": [],
      "source": [
        "import time"
      ]
    },
    {
      "cell_type": "code",
      "execution_count": null,
      "metadata": {
        "id": "ME0UEELLwVmy"
      },
      "outputs": [],
      "source": [
        "import cv2"
      ]
    },
    {
      "cell_type": "markdown",
      "metadata": {
        "id": "g4IOB9-zFL0K"
      },
      "source": [
        "# Using GPU if availabble"
      ]
    },
    {
      "cell_type": "code",
      "execution_count": null,
      "metadata": {
        "id": "3RZhEIn1FIlm"
      },
      "outputs": [],
      "source": [
        "device = (\n",
        "    \"cuda\"\n",
        "    if torch.cuda.is_available()\n",
        "    else \"mps\"\n",
        "    if torch.backends.mps.is_available()\n",
        "    else \"cpu\"\n",
        ")"
      ]
    },
    {
      "cell_type": "code",
      "execution_count": null,
      "metadata": {
        "colab": {
          "base_uri": "https://localhost:8080/",
          "height": 35
        },
        "id": "g-XeK3YkFKUN",
        "outputId": "7820bca7-dc6b-446b-960a-8677994e3f02"
      },
      "outputs": [
        {
          "output_type": "execute_result",
          "data": {
            "text/plain": [
              "'cpu'"
            ],
            "application/vnd.google.colaboratory.intrinsic+json": {
              "type": "string"
            }
          },
          "metadata": {},
          "execution_count": 10
        }
      ],
      "source": [
        "device"
      ]
    },
    {
      "cell_type": "markdown",
      "metadata": {
        "id": "gSjSdXp2xqov"
      },
      "source": [
        "# Converting image to Tensor"
      ]
    },
    {
      "cell_type": "code",
      "execution_count": null,
      "metadata": {
        "id": "tuwOafdkwIVs"
      },
      "outputs": [],
      "source": [
        "transform = transforms.ToTensor()"
      ]
    },
    {
      "cell_type": "markdown",
      "metadata": {
        "id": "ykdLCGd-ykib"
      },
      "source": [
        "# Load Data"
      ]
    },
    {
      "cell_type": "markdown",
      "metadata": {
        "id": "GYFv7XZSxx-P"
      },
      "source": [
        "**Train Data**"
      ]
    },
    {
      "cell_type": "code",
      "execution_count": null,
      "metadata": {
        "colab": {
          "base_uri": "https://localhost:8080/"
        },
        "id": "K72wEHu1wR3N",
        "outputId": "b074fb2f-e99a-4eda-a503-67b5e4cbd392"
      },
      "outputs": [
        {
          "output_type": "stream",
          "name": "stdout",
          "text": [
            "Downloading http://yann.lecun.com/exdb/mnist/train-images-idx3-ubyte.gz\n",
            "Failed to download (trying next):\n",
            "HTTP Error 403: Forbidden\n",
            "\n",
            "Downloading https://ossci-datasets.s3.amazonaws.com/mnist/train-images-idx3-ubyte.gz\n",
            "Downloading https://ossci-datasets.s3.amazonaws.com/mnist/train-images-idx3-ubyte.gz to Digit_data/MNIST/raw/train-images-idx3-ubyte.gz\n"
          ]
        },
        {
          "output_type": "stream",
          "name": "stderr",
          "text": [
            "100%|██████████| 9912422/9912422 [00:00<00:00, 104029523.72it/s]\n"
          ]
        },
        {
          "output_type": "stream",
          "name": "stdout",
          "text": [
            "Extracting Digit_data/MNIST/raw/train-images-idx3-ubyte.gz to Digit_data/MNIST/raw\n",
            "\n",
            "Downloading http://yann.lecun.com/exdb/mnist/train-labels-idx1-ubyte.gz\n",
            "Failed to download (trying next):\n",
            "HTTP Error 403: Forbidden\n",
            "\n",
            "Downloading https://ossci-datasets.s3.amazonaws.com/mnist/train-labels-idx1-ubyte.gz\n",
            "Downloading https://ossci-datasets.s3.amazonaws.com/mnist/train-labels-idx1-ubyte.gz to Digit_data/MNIST/raw/train-labels-idx1-ubyte.gz\n"
          ]
        },
        {
          "output_type": "stream",
          "name": "stderr",
          "text": [
            "100%|██████████| 28881/28881 [00:00<00:00, 5984078.14it/s]"
          ]
        },
        {
          "output_type": "stream",
          "name": "stdout",
          "text": [
            "Extracting Digit_data/MNIST/raw/train-labels-idx1-ubyte.gz to Digit_data/MNIST/raw\n",
            "\n",
            "Downloading http://yann.lecun.com/exdb/mnist/t10k-images-idx3-ubyte.gz\n",
            "Failed to download (trying next):\n",
            "HTTP Error 403: Forbidden\n",
            "\n",
            "Downloading https://ossci-datasets.s3.amazonaws.com/mnist/t10k-images-idx3-ubyte.gz\n"
          ]
        },
        {
          "output_type": "stream",
          "name": "stderr",
          "text": [
            "\n"
          ]
        },
        {
          "output_type": "stream",
          "name": "stdout",
          "text": [
            "Downloading https://ossci-datasets.s3.amazonaws.com/mnist/t10k-images-idx3-ubyte.gz to Digit_data/MNIST/raw/t10k-images-idx3-ubyte.gz\n"
          ]
        },
        {
          "output_type": "stream",
          "name": "stderr",
          "text": [
            "100%|██████████| 1648877/1648877 [00:00<00:00, 88870359.76it/s]\n"
          ]
        },
        {
          "output_type": "stream",
          "name": "stdout",
          "text": [
            "Extracting Digit_data/MNIST/raw/t10k-images-idx3-ubyte.gz to Digit_data/MNIST/raw\n",
            "\n",
            "Downloading http://yann.lecun.com/exdb/mnist/t10k-labels-idx1-ubyte.gz\n",
            "Failed to download (trying next):\n",
            "HTTP Error 403: Forbidden\n",
            "\n",
            "Downloading https://ossci-datasets.s3.amazonaws.com/mnist/t10k-labels-idx1-ubyte.gz\n",
            "Downloading https://ossci-datasets.s3.amazonaws.com/mnist/t10k-labels-idx1-ubyte.gz to Digit_data/MNIST/raw/t10k-labels-idx1-ubyte.gz\n"
          ]
        },
        {
          "output_type": "stream",
          "name": "stderr",
          "text": [
            "100%|██████████| 4542/4542 [00:00<00:00, 1147483.96it/s]"
          ]
        },
        {
          "output_type": "stream",
          "name": "stdout",
          "text": [
            "Extracting Digit_data/MNIST/raw/t10k-labels-idx1-ubyte.gz to Digit_data/MNIST/raw\n",
            "\n"
          ]
        },
        {
          "output_type": "stream",
          "name": "stderr",
          "text": [
            "\n"
          ]
        }
      ],
      "source": [
        "train_data = datasets.MNIST(root = \"Digit_data\", train = True, download = True, transform = transform)"
      ]
    },
    {
      "cell_type": "markdown",
      "metadata": {
        "id": "_wMKxkarx2mq"
      },
      "source": [
        "**Test Data**"
      ]
    },
    {
      "cell_type": "code",
      "execution_count": null,
      "metadata": {
        "id": "EQl6rlXYx59p"
      },
      "outputs": [],
      "source": [
        "test_data = datasets.MNIST(root = \"Digit_data\", train = False, download = True, transform = transform)"
      ]
    },
    {
      "cell_type": "code",
      "execution_count": null,
      "metadata": {
        "colab": {
          "base_uri": "https://localhost:8080/"
        },
        "id": "DHpO23XmyTtt",
        "outputId": "1e04c02b-d732-495e-e7f1-79ba444a12ff"
      },
      "outputs": [
        {
          "output_type": "execute_result",
          "data": {
            "text/plain": [
              "Dataset MNIST\n",
              "    Number of datapoints: 60000\n",
              "    Root location: Digit_data\n",
              "    Split: Train\n",
              "    StandardTransform\n",
              "Transform: ToTensor()"
            ]
          },
          "metadata": {},
          "execution_count": 14
        }
      ],
      "source": [
        "train_data"
      ]
    },
    {
      "cell_type": "code",
      "execution_count": null,
      "metadata": {
        "colab": {
          "base_uri": "https://localhost:8080/"
        },
        "id": "i8e5gh8tyWvi",
        "outputId": "265ce6f6-fb31-47ab-959c-9bf873a39684"
      },
      "outputs": [
        {
          "output_type": "execute_result",
          "data": {
            "text/plain": [
              "Dataset MNIST\n",
              "    Number of datapoints: 10000\n",
              "    Root location: Digit_data\n",
              "    Split: Test\n",
              "    StandardTransform\n",
              "Transform: ToTensor()"
            ]
          },
          "metadata": {},
          "execution_count": 15
        }
      ],
      "source": [
        "test_data"
      ]
    },
    {
      "cell_type": "markdown",
      "metadata": {
        "id": "Yz6JMivX0Rvg"
      },
      "source": [
        "# Creating Small Batches of data"
      ]
    },
    {
      "cell_type": "code",
      "execution_count": null,
      "metadata": {
        "id": "0HAJyoxAyepY"
      },
      "outputs": [],
      "source": [
        "train_loader = DataLoader(train_data, batch_size = 10, shuffle = 1)\n",
        "test_loader = DataLoader(test_data, batch_size = 10, shuffle = 0)"
      ]
    },
    {
      "cell_type": "markdown",
      "metadata": {
        "id": "6p31GUlz1Iok"
      },
      "source": [
        "# Creating model"
      ]
    },
    {
      "cell_type": "code",
      "execution_count": null,
      "metadata": {
        "id": "rVlshwDg1INb"
      },
      "outputs": [],
      "source": [
        "class cnn_model(nn.Module):\n",
        "  def __init__(self):\n",
        "    super().__init__()\n",
        "    self.conv1 = nn.Conv2d(1, 6, 3, 1)\n",
        "    self.conv2 = nn.Conv2d(6, 16, 3, 1)\n",
        "    self.fc1 = nn.Linear(5*5*16, 100)\n",
        "    self.fc2 = nn.Linear(100, 50)\n",
        "    self.fc3 = nn.Linear(50, 10)\n",
        "\n",
        "  def forward(self, x):\n",
        "    x = F.relu(self.conv1(x))\n",
        "    x = F.max_pool2d(x, 2, 2)\n",
        "    x = F.relu(self.conv2(x))\n",
        "    x = F.max_pool2d(x, 2, 2)\n",
        "    x = x.view(-1, 16*5*5)\n",
        "    x = F.relu(self.fc1(x))\n",
        "    x = F.relu(self.fc2(x))\n",
        "    x = self.fc3(x)\n",
        "\n",
        "    return F.log_softmax(x, dim = 1)"
      ]
    },
    {
      "cell_type": "markdown",
      "metadata": {
        "id": "qAX21XrJJ6OZ"
      },
      "source": [
        "# Picking a Seed and Initiating model"
      ]
    },
    {
      "cell_type": "code",
      "execution_count": null,
      "metadata": {
        "id": "-2O1jUYjJxE1"
      },
      "outputs": [],
      "source": [
        "torch.manual_seed(10)\n",
        "model = cnn_model()"
      ]
    },
    {
      "cell_type": "code",
      "execution_count": null,
      "metadata": {
        "colab": {
          "base_uri": "https://localhost:8080/"
        },
        "id": "QyGUsu98KVhv",
        "outputId": "d1ee66ed-2972-424b-c709-5c491f7a4552"
      },
      "outputs": [
        {
          "output_type": "execute_result",
          "data": {
            "text/plain": [
              "cnn_model(\n",
              "  (conv1): Conv2d(1, 6, kernel_size=(3, 3), stride=(1, 1))\n",
              "  (conv2): Conv2d(6, 16, kernel_size=(3, 3), stride=(1, 1))\n",
              "  (fc1): Linear(in_features=400, out_features=100, bias=True)\n",
              "  (fc2): Linear(in_features=100, out_features=50, bias=True)\n",
              "  (fc3): Linear(in_features=50, out_features=10, bias=True)\n",
              ")"
            ]
          },
          "metadata": {},
          "execution_count": 19
        }
      ],
      "source": [
        "model"
      ]
    },
    {
      "cell_type": "markdown",
      "metadata": {
        "id": "M_5dbfcxKumE"
      },
      "source": [
        "# Loss function"
      ]
    },
    {
      "cell_type": "code",
      "execution_count": null,
      "metadata": {
        "id": "EXXR9zEYKsOk"
      },
      "outputs": [],
      "source": [
        "Lossfun = nn.CrossEntropyLoss()"
      ]
    },
    {
      "cell_type": "markdown",
      "metadata": {
        "id": "UreuoBAMK1jU"
      },
      "source": [
        "# Optimizer"
      ]
    },
    {
      "cell_type": "code",
      "execution_count": null,
      "metadata": {
        "id": "AedXYZh0Kyh5"
      },
      "outputs": [],
      "source": [
        "optimizer = torch.optim.Adam(model.parameters(), lr = 0.01)"
      ]
    },
    {
      "cell_type": "markdown",
      "metadata": {
        "id": "hckZA7-ApPEn"
      },
      "source": [
        "# Start training and testing"
      ]
    },
    {
      "cell_type": "code",
      "execution_count": null,
      "metadata": {
        "colab": {
          "base_uri": "https://localhost:8080/"
        },
        "id": "5um1238SLXU4",
        "outputId": "818befe2-d183-435c-f0c9-380e834be98f"
      },
      "outputs": [
        {
          "output_type": "stream",
          "name": "stdout",
          "text": [
            "Epochs: 0  Batch: 600 loss: 0.036729034036397934\n",
            "Epochs: 0  Batch: 1200 loss: 0.008785316720604897\n",
            "Epochs: 0  Batch: 1800 loss: 0.019138216972351074\n",
            "Epochs: 0  Batch: 2400 loss: 0.40183743834495544\n",
            "Epochs: 0  Batch: 3000 loss: 0.044860485941171646\n",
            "Epochs: 0  Batch: 3600 loss: 0.09562231600284576\n",
            "Epochs: 0  Batch: 4200 loss: 0.0022700554691255093\n",
            "Epochs: 0  Batch: 4800 loss: 0.07522408664226532\n",
            "Epochs: 0  Batch: 5400 loss: 0.0958254486322403\n",
            "Epochs: 0  Batch: 6000 loss: 0.023585466668009758\n",
            "Epochs: 1  Batch: 600 loss: 0.03604504466056824\n",
            "Epochs: 1  Batch: 1200 loss: 2.2823822498321533\n",
            "Epochs: 1  Batch: 1800 loss: 0.0012174579314887524\n",
            "Epochs: 1  Batch: 2400 loss: 1.535473346710205\n",
            "Epochs: 1  Batch: 3000 loss: 0.0025779828429222107\n",
            "Epochs: 1  Batch: 3600 loss: 0.48648756742477417\n",
            "Epochs: 1  Batch: 4200 loss: 0.0008337073959410191\n",
            "Epochs: 1  Batch: 4800 loss: 0.07344252616167068\n",
            "Epochs: 1  Batch: 5400 loss: 0.00991871953010559\n",
            "Epochs: 1  Batch: 6000 loss: 0.3563772439956665\n",
            "Epochs: 2  Batch: 600 loss: 0.07939808070659637\n",
            "Epochs: 2  Batch: 1200 loss: 1.234684705734253\n",
            "Epochs: 2  Batch: 1800 loss: 0.022425029426813126\n",
            "Epochs: 2  Batch: 2400 loss: 0.01034486573189497\n",
            "Epochs: 2  Batch: 3000 loss: 0.0005234874552115798\n",
            "Epochs: 2  Batch: 3600 loss: 0.001887779450044036\n",
            "Epochs: 2  Batch: 4200 loss: 0.0001598768139956519\n",
            "Epochs: 2  Batch: 4800 loss: 0.09090571105480194\n",
            "Epochs: 2  Batch: 5400 loss: 0.001048961654305458\n",
            "Epochs: 2  Batch: 6000 loss: 0.0015078919241204858\n",
            "Epochs: 3  Batch: 600 loss: 0.012580938637256622\n",
            "Epochs: 3  Batch: 1200 loss: 0.08072005212306976\n",
            "Epochs: 3  Batch: 1800 loss: 0.017885182052850723\n",
            "Epochs: 3  Batch: 2400 loss: 0.007121879607439041\n",
            "Epochs: 3  Batch: 3000 loss: 0.40950822830200195\n",
            "Epochs: 3  Batch: 3600 loss: 0.004504959098994732\n",
            "Epochs: 3  Batch: 4200 loss: 0.43683838844299316\n",
            "Epochs: 3  Batch: 4800 loss: 0.05394064635038376\n",
            "Epochs: 3  Batch: 5400 loss: 0.09735395014286041\n",
            "Epochs: 3  Batch: 6000 loss: 0.014003979042172432\n",
            "Epochs: 4  Batch: 600 loss: 0.0026733982376754284\n",
            "Epochs: 4  Batch: 1200 loss: 0.0004607784212566912\n",
            "Epochs: 4  Batch: 1800 loss: 0.04528221860527992\n",
            "Epochs: 4  Batch: 2400 loss: 0.0079130157828331\n",
            "Epochs: 4  Batch: 3000 loss: 0.09116761386394501\n",
            "Epochs: 4  Batch: 3600 loss: 0.004638931713998318\n",
            "Epochs: 4  Batch: 4200 loss: 0.00041816645534709096\n",
            "Epochs: 4  Batch: 4800 loss: 0.004250583238899708\n",
            "Epochs: 4  Batch: 5400 loss: 0.30576252937316895\n",
            "Epochs: 4  Batch: 6000 loss: 0.12881384789943695\n",
            "Traing took: 3.6560875256856282 minutes\n"
          ]
        }
      ],
      "source": [
        "start_time = time.time()\n",
        "\n",
        "epochs = 5\n",
        "train_losses = []\n",
        "test_losses = []\n",
        "train_correct = []\n",
        "test_correct = []\n",
        "\n",
        "for epoch in range(epochs):\n",
        "  trn_correct = 0\n",
        "  tst_correct = 0\n",
        "  for batch, (X_train, Y_train) in enumerate(train_loader):\n",
        "    batch += 1\n",
        "    Y_pred = model(X_train)\n",
        "    loss = Lossfun(Y_pred, Y_train)\n",
        "\n",
        "    prediction = torch.max(Y_pred.data, 1)[1]\n",
        "    batch_correct = (prediction == Y_train).sum()\n",
        "    trn_correct += batch_correct\n",
        "\n",
        "    optimizer.zero_grad()\n",
        "    loss.backward()\n",
        "    optimizer.step()\n",
        "\n",
        "    if batch % 600 == 0:\n",
        "      print(f'Epochs: {epoch}  Batch: {batch} loss: {loss.item()}')\n",
        "  train_losses.append(loss.item())\n",
        "  train_correct.append(trn_correct)\n",
        "\n",
        "\n",
        "  with torch.no_grad():\n",
        "    for batch, (X_test, Y_test) in enumerate(test_loader):\n",
        "      batch += 1\n",
        "      Y_val = model(X_test)\n",
        "      predicted = torch.max(Y_val.data, 1)[1]\n",
        "      tst_correct = (prediction == Y_test).sum()\n",
        "\n",
        "  loss = Lossfun(Y_val, Y_test)\n",
        "  test_losses.append(loss)\n",
        "  test_correct.append(tst_correct)\n",
        "\n",
        "current_time = time.time()\n",
        "total_time = current_time - start_time\n",
        "print(f'Traing took: {total_time/60} minutes')"
      ]
    },
    {
      "cell_type": "code",
      "execution_count": null,
      "metadata": {
        "colab": {
          "base_uri": "https://localhost:8080/"
        },
        "id": "xq5AKhyttHFG",
        "outputId": "e7120c2e-8f35-4866-d462-5da509526c3f"
      },
      "outputs": [
        {
          "output_type": "execute_result",
          "data": {
            "text/plain": [
              "[tensor(0.0097),\n",
              " tensor(7.5815e-05),\n",
              " tensor(0.0015),\n",
              " tensor(0.0006),\n",
              " tensor(0.0089)]"
            ]
          },
          "metadata": {},
          "execution_count": 23
        }
      ],
      "source": [
        "test_losses"
      ]
    },
    {
      "cell_type": "code",
      "execution_count": null,
      "metadata": {
        "colab": {
          "base_uri": "https://localhost:8080/"
        },
        "id": "7bNZuxFBq7_-",
        "outputId": "b61c1ddc-b6b6-4180-aedd-0f5092819047"
      },
      "outputs": [
        {
          "output_type": "execute_result",
          "data": {
            "text/plain": [
              "[0.023585466668009758,\n",
              " 0.3563772439956665,\n",
              " 0.0015078919241204858,\n",
              " 0.014003979042172432,\n",
              " 0.12881384789943695]"
            ]
          },
          "metadata": {},
          "execution_count": 24
        }
      ],
      "source": [
        "train_losses"
      ]
    },
    {
      "cell_type": "markdown",
      "metadata": {
        "id": "vRhY-rGJi5l0"
      },
      "source": [
        "# Visualizing"
      ]
    },
    {
      "cell_type": "code",
      "execution_count": null,
      "metadata": {
        "colab": {
          "base_uri": "https://localhost:8080/",
          "height": 469
        },
        "id": "5Ac8ULLUiHWT",
        "outputId": "878bdcca-640e-4abc-bdc9-e528af46ffc5"
      },
      "outputs": [
        {
          "output_type": "execute_result",
          "data": {
            "text/plain": [
              "<matplotlib.legend.Legend at 0x7b6a6f277eb0>"
            ]
          },
          "metadata": {},
          "execution_count": 25
        },
        {
          "output_type": "display_data",
          "data": {
            "text/plain": [
              "<Figure size 640x480 with 1 Axes>"
            ],
            "image/png": "[encoded data removed]"
          },
          "metadata": {}
        }
      ],
      "source": [
        "train_losses = [tl for tl in train_losses]\n",
        "plt.plot(train_losses, label = \"Training losses\")\n",
        "plt.plot(test_losses, label = \"Testing losses\")\n",
        "plt.title(\"Loss at epoch\")\n",
        "plt.legend()"
      ]
    },
    {
      "cell_type": "code",
      "execution_count": null,
      "metadata": {
        "id": "rbvKtwa8vydI"
      },
      "outputs": [],
      "source": []
    }
  ],
  "metadata": {
    "accelerator": "TPU",
    "colab": {
      "gpuType": "V28",
      "provenance": [],
      "authorship_tag": "ABX9TyMGwBkgb/YSNCprQHtsAYin",
      "include_colab_link": true
    },
    "kernelspec": {
      "display_name": "Python 3",
      "name": "python3"
    },
    "language_info": {
      "name": "python"
    }
  },
  "nbformat": 4,
  "nbformat_minor": 0
}