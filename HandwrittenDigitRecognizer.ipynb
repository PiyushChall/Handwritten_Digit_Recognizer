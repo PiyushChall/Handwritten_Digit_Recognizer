{
  "nbformat": 4,
  "nbformat_minor": 0,
  "metadata": {
    "colab": {
      "provenance": [],
      "gpuType": "T4",
      "authorship_tag": "ABX9TyNDa3EpxY0D7PHEMPg5w0xc",
      "include_colab_link": true
    },
    "kernelspec": {
      "name": "python3",
      "display_name": "Python 3"
    },
    "language_info": {
      "name": "python"
    },
    "accelerator": "GPU"
  },
  "cells": [
    {
      "cell_type": "markdown",
      "metadata": {
        "id": "view-in-github",
        "colab_type": "text"
      },
      "source": [
        "<a href=\"https://colab.research.google.com/github/PiyushChall/Handwritten_Digit_Recognizer/blob/main/HandwrittenDigitRecognizer.ipynb\" target=\"_parent\"><img src=\"https://colab.research.google.com/assets/colab-badge.svg\" alt=\"Open In Colab\"/></a>"
      ]
    },
    {
      "cell_type": "markdown",
      "source": [
        "# **Handwritten Digit Recognition with Neural Networks**\n",
        "\n",
        "\n",
        "\n"
      ],
      "metadata": {
        "id": "RKwWTxU2S5tY"
      }
    },
    {
      "cell_type": "markdown",
      "source": [
        "# Some Installations"
      ],
      "metadata": {
        "id": "zIpOqEV_Uqgt"
      }
    },
    {
      "cell_type": "code",
      "execution_count": 1,
      "metadata": {
        "colab": {
          "base_uri": "https://localhost:8080/"
        },
        "id": "gVeI57BwSv98",
        "outputId": "30c471b2-cbf0-415e-f777-2da6b12858b9"
      },
      "outputs": [
        {
          "output_type": "stream",
          "name": "stdout",
          "text": [
            "Requirement already satisfied: numpy in /usr/local/lib/python3.10/dist-packages (1.25.2)\n",
            "ERROR: unknown command \"insatll\" - maybe you meant \"install\"\n",
            "Requirement already satisfied: opencv-python in /usr/local/lib/python3.10/dist-packages (4.8.0.76)\n",
            "Requirement already satisfied: numpy>=1.21.2 in /usr/local/lib/python3.10/dist-packages (from opencv-python) (1.25.2)\n",
            "Requirement already satisfied: matplotlib in /usr/local/lib/python3.10/dist-packages (3.7.1)\n",
            "Requirement already satisfied: contourpy>=1.0.1 in /usr/local/lib/python3.10/dist-packages (from matplotlib) (1.2.1)\n",
            "Requirement already satisfied: cycler>=0.10 in /usr/local/lib/python3.10/dist-packages (from matplotlib) (0.12.1)\n",
            "Requirement already satisfied: fonttools>=4.22.0 in /usr/local/lib/python3.10/dist-packages (from matplotlib) (4.51.0)\n",
            "Requirement already satisfied: kiwisolver>=1.0.1 in /usr/local/lib/python3.10/dist-packages (from matplotlib) (1.4.5)\n",
            "Requirement already satisfied: numpy>=1.20 in /usr/local/lib/python3.10/dist-packages (from matplotlib) (1.25.2)\n",
            "Requirement already satisfied: packaging>=20.0 in /usr/local/lib/python3.10/dist-packages (from matplotlib) (24.0)\n",
            "Requirement already satisfied: pillow>=6.2.0 in /usr/local/lib/python3.10/dist-packages (from matplotlib) (9.4.0)\n",
            "Requirement already satisfied: pyparsing>=2.3.1 in /usr/local/lib/python3.10/dist-packages (from matplotlib) (3.1.2)\n",
            "Requirement already satisfied: python-dateutil>=2.7 in /usr/local/lib/python3.10/dist-packages (from matplotlib) (2.8.2)\n",
            "Requirement already satisfied: six>=1.5 in /usr/local/lib/python3.10/dist-packages (from python-dateutil>=2.7->matplotlib) (1.16.0)\n"
          ]
        }
      ],
      "source": [
        "!pip install numpy\n",
        "!pip insatll tensorflow\n",
        "!pip install opencv-python\n",
        "!pip install matplotlib"
      ]
    },
    {
      "cell_type": "markdown",
      "source": [
        "# Importing Modules"
      ],
      "metadata": {
        "id": "mLZWr6pJV309"
      }
    },
    {
      "cell_type": "code",
      "source": [
        "import numpy\n",
        "import matplotlib.pyplot as plt\n",
        "import tensorflow as tf\n",
        "import cv2"
      ],
      "metadata": {
        "id": "nUBCYKbTVY1W"
      },
      "execution_count": 2,
      "outputs": []
    },
    {
      "cell_type": "code",
      "source": [
        "def normalize(X_train,X_test):\n",
        "  X_train = tf.keras.utils.normalize(X_train, axis=1)\n",
        "  X_test = tf.keras.utils.normalize(X_test, axis=1)\n",
        "  return X_train, X_test"
      ],
      "metadata": {
        "id": "rDhvLUcWYr21"
      },
      "execution_count": 5,
      "outputs": []
    },
    {
      "cell_type": "code",
      "source": [
        "def build_model():\n",
        "  model = tf.keras.models.Sequential() #Selecting model\n",
        "  model.add(tf.keras.layers.Flatten()) #FLattening inputs\n",
        "  model.add(tf.keras.layers.Dense(units=128, activation=tf.nn.relu)) #Input layer\n",
        "  model.add(tf.keras.layers.Dense(units=128, activation=tf.nn.relu)) #Hidden Dense Layer\n",
        "  model.add(tf.keras.layers.Dense(units=10, activation=tf.nn.softmax)) #Output Dense Layer\n",
        "\n",
        "  return model"
      ],
      "metadata": {
        "id": "-X753ZW4ZkuZ"
      },
      "execution_count": 4,
      "outputs": []
    },
    {
      "cell_type": "code",
      "source": [
        "def train_model():\n",
        "  mnist = tf.keras.datasets.mnist\n",
        "  (X_train, y_train), (X_test, y_test) = mnist.load_data()\n",
        "\n",
        "  X_train, X_test = normalize(X_train,X_test)\n",
        "\n",
        "  model = build_model()\n",
        "\n",
        "  # Compiling and optimizing model\n",
        "  model.compile(optimizer='adam', loss='sparse_categorical_crossentropy', metrics=['accuracy'])\n",
        "\n",
        "  # Training the model\n",
        "  model.fit(X_train, y_train, epochs=3)\n",
        "\n",
        "  # Evaluating the model\n",
        "  val_loss, val_acc = model.evaluate(X_test, y_test)\n",
        "  print(val_loss)\n",
        "  print(val_acc)\n",
        "\n",
        "  # Saving the model\n",
        "  model.save('digit_recognizer.model')"
      ],
      "metadata": {
        "id": "_EAyfQRhXO6v"
      },
      "execution_count": 3,
      "outputs": []
    },
    {
      "cell_type": "code",
      "source": [
        "train_model()"
      ],
      "metadata": {
        "colab": {
          "base_uri": "https://localhost:8080/"
        },
        "id": "XQy9ywxAaXkQ",
        "outputId": "3e1ec550-6030-447b-ea69-c06c59ea13c3"
      },
      "execution_count": 6,
      "outputs": [
        {
          "output_type": "stream",
          "name": "stdout",
          "text": [
            "Downloading data from https://storage.googleapis.com/tensorflow/tf-keras-datasets/mnist.npz\n",
            "11490434/11490434 [==============================] - 0s 0us/step\n",
            "Epoch 1/3\n",
            "1875/1875 [==============================] - 9s 4ms/step - loss: 0.2659 - accuracy: 0.9209\n",
            "Epoch 2/3\n",
            "1875/1875 [==============================] - 8s 4ms/step - loss: 0.1087 - accuracy: 0.9666\n",
            "Epoch 3/3\n",
            "1875/1875 [==============================] - 7s 4ms/step - loss: 0.0743 - accuracy: 0.9770\n",
            "313/313 [==============================] - 1s 2ms/step - loss: 0.1011 - accuracy: 0.9692\n",
            "0.10106157511472702\n",
            "0.9692000150680542\n"
          ]
        }
      ]
    },
    {
      "cell_type": "code",
      "source": [
        "# Load the model\n",
        "model = tf.keras.models.load_model('digit_recognizer.model')"
      ],
      "metadata": {
        "id": "eFXnsIMpaszE"
      },
      "execution_count": 8,
      "outputs": []
    },
    {
      "cell_type": "code",
      "source": [
        "model"
      ],
      "metadata": {
        "colab": {
          "base_uri": "https://localhost:8080/"
        },
        "id": "LJPARzpDbCyV",
        "outputId": "d7873c45-40c3-4f9b-8e1a-b11d1bdd965f"
      },
      "execution_count": 9,
      "outputs": [
        {
          "output_type": "execute_result",
          "data": {
            "text/plain": [
              "<keras.src.engine.sequential.Sequential at 0x78f714b37010>"
            ]
          },
          "metadata": {},
          "execution_count": 9
        }
      ]
    },
    {
      "cell_type": "code",
      "source": [
        "def load_custom_image():\n",
        "  try:\n",
        "    image_name = \"Six.png\"\n",
        "    img = cv2.imread(image_name)\n",
        "    img = numpy.invert(numpy.array([img]).astype(bool))\n",
        "    img = cv2.resize(img,(28,28))\n",
        "    prediction = model.predict(img)\n",
        "    print(\"The image is: {}\".format(np.argmax(prediction)))\n",
        "    plt.imshow(img[0], cmap = plt.cm.binary)\n",
        "    plt.show()\n",
        "  except:\n",
        "    print(\"Error reading provided image!!\")"
      ],
      "metadata": {
        "id": "sT8HfjaMbhI4"
      },
      "execution_count": 35,
      "outputs": []
    },
    {
      "cell_type": "code",
      "source": [
        "load_custom_image()"
      ],
      "metadata": {
        "colab": {
          "base_uri": "https://localhost:8080/"
        },
        "id": "kCfDCA3EfObt",
        "outputId": "6fa2fce7-6b4b-4276-d29f-67e5006e311b"
      },
      "execution_count": 36,
      "outputs": [
        {
          "output_type": "stream",
          "name": "stdout",
          "text": [
            "Error reading provided image!!\n"
          ]
        }
      ]
    }
  ]
}